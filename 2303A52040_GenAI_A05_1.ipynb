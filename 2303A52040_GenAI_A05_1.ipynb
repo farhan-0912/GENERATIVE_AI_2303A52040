{
  "nbformat": 4,
  "nbformat_minor": 0,
  "metadata": {
    "colab": {
      "provenance": [],
      "include_colab_link": true
    },
    "kernelspec": {
      "name": "python3",
      "display_name": "Python 3"
    },
    "language_info": {
      "name": "python"
    }
  },
  "cells": [
    {
      "cell_type": "markdown",
      "metadata": {
        "id": "view-in-github",
        "colab_type": "text"
      },
      "source": [
        "<a href=\"https://colab.research.google.com/github/farhan-0912/GENERATIVE_AI_2303A52040/blob/main/2303A52040_GenAI_A05_1.ipynb\" target=\"_parent\"><img src=\"https://colab.research.google.com/assets/colab-badge.svg\" alt=\"Open In Colab\"/></a>"
      ]
    },
    {
      "cell_type": "markdown",
      "source": [
        "***Question 1.***\n",
        "\n",
        "  Design a multi-layer ANN architecture with one input, one hidden, and one output layer. Assume a linear activation function in the output layer and a sigmoid activation function in the hidden layer.\n",
        "• Write Python code for a backpropagation algorithm with gradient descent optimization to update weights and bias parameters of the ANN model with training data shown in Table 1.\n",
        "• Calculate the mean square error with training and testing data shown in Table 2.\n",
        "• Write Python code that reads the input data [x1 and x2] from the user. Predict the output\n",
        "with deployed ANN model\n",
        "\n",
        "***Table 1: Training Data***\n",
        "\n",
        "| x1  | x2  | y      |\n",
        "|-----|-----|--------|\n",
        "| 0.1 | 0.2 | 0.3432 |\n",
        "| 0.2 | 0.3 | 0.3490 |\n",
        "| 0.3 | 0.4 | 0.3548 |\n",
        "| 0.6 | 0.7 | 0.3720 |\n",
        "| 0.7 | 0.8 | 0.3776 |\n",
        "| 0.8 | 0.9 | 0.3832 |\n",
        "\n",
        "***Table 2: Test Data***\n",
        "\n",
        "| x1  | x2  | y      |\n",
        "|-----|-----|--------|\n",
        "| 0.4 | 0.5 | 0.3606 |\n",
        "| 0.5 | 0.6 | 0.3663 |\n",
        "\n"
      ],
      "metadata": {
        "id": "cI5HAfLkiYfS"
      }
    },
    {
      "cell_type": "code",
      "execution_count": null,
      "metadata": {
        "colab": {
          "base_uri": "https://localhost:8080/"
        },
        "id": "Q4zIyKxiSJ4D",
        "outputId": "07b1b1c5-470e-46c3-c4e0-b81e5a192cdc"
      },
      "outputs": [
        {
          "output_type": "stream",
          "name": "stdout",
          "text": [
            "Training MSE: 0.000000\n",
            "Testing MSE: 0.000001\n",
            "Enter x1 and x2: 0.4 0.5\n",
            "Predicted output: 0.361667\n"
          ]
        }
      ],
      "source": [
        "import numpy as np\n",
        "\n",
        "def sigmoid(x):\n",
        "    return 1 / (1 + np.exp(-x))\n",
        "\n",
        "def sigmoid_derivative(x):\n",
        "    return x * (1 - x)\n",
        "\n",
        "def train_ann(X_train, y_train, hidden_neurons=2, lr=0.1, epochs=10000):\n",
        "    np.random.seed(42)\n",
        "    input_neurons = X_train.shape[1]\n",
        "    output_neurons = 1\n",
        "\n",
        "    W1 = np.random.rand(input_neurons, hidden_neurons)\n",
        "    b1 = np.random.rand(hidden_neurons)\n",
        "    W2 = np.random.rand(hidden_neurons, output_neurons)\n",
        "    b2 = np.random.rand(output_neurons)\n",
        "\n",
        "    for _ in range(epochs):\n",
        "        # Forward pass\n",
        "        hidden_input = np.dot(X_train, W1) + b1\n",
        "        hidden_output = sigmoid(hidden_input)\n",
        "        final_input = np.dot(hidden_output, W2) + b2\n",
        "        final_output = final_input  # Linear activation\n",
        "\n",
        "        # Backpropagation\n",
        "        error = y_train - final_output\n",
        "        d_output = error\n",
        "\n",
        "        error_hidden = d_output.dot(W2.T)\n",
        "        d_hidden = error_hidden * sigmoid_derivative(hidden_output)\n",
        "\n",
        "        # Update weights and biases\n",
        "        W2 += hidden_output.T.dot(d_output) * lr\n",
        "        b2 += np.sum(d_output, axis=0) * lr\n",
        "        W1 += X_train.T.dot(d_hidden) * lr\n",
        "        b1 += np.sum(d_hidden, axis=0) * lr\n",
        "\n",
        "    return W1, b1, W2, b2\n",
        "\n",
        "def predict(X, W1, b1, W2, b2):\n",
        "    hidden_input = np.dot(X, W1) + b1\n",
        "    hidden_output = sigmoid(hidden_input)\n",
        "    final_input = np.dot(hidden_output, W2) + b2\n",
        "    return final_input  # Linear activation\n",
        "\n",
        "def mse(y_true, y_pred):\n",
        "    return np.mean((y_true - y_pred) ** 2)\n",
        "\n",
        "# Training Data\n",
        "X_train = np.array([[0.1, 0.2], [0.2, 0.3], [0.3, 0.4], [0.6, 0.7], [0.7, 0.8], [0.8, 0.9]])\n",
        "y_train = np.array([[0.3432], [0.3490], [0.3548], [0.3720], [0.3776], [0.3832]])\n",
        "\n",
        "# Training the ANN\n",
        "W1, b1, W2, b2 = train_ann(X_train, y_train)\n",
        "\n",
        "# Testing Data\n",
        "X_test = np.array([[0.4, 0.5], [0.5, 0.6]])\n",
        "y_test = np.array([[0.3606], [0.3663]])\n",
        "\n",
        "y_train_pred = predict(X_train, W1, b1, W2, b2)\n",
        "y_test_pred = predict(X_test, W1, b1, W2, b2)\n",
        "\n",
        "# Calculate MSE\n",
        "train_mse = mse(y_train, y_train_pred)\n",
        "test_mse = mse(y_test, y_test_pred)\n",
        "\n",
        "print(f\"Training MSE: {train_mse:.6f}\")\n",
        "print(f\"Testing MSE: {test_mse:.6f}\")\n",
        "\n",
        "# User Input Prediction\n",
        "x1, x2 = map(float, input(\"Enter x1 and x2: \").split())\n",
        "x_new = np.array([[x1, x2]])\n",
        "y_new_pred = predict(x_new, W1, b1, W2, b2)\n",
        "print(f\"Predicted output: {y_new_pred[0][0]:.6f}\")"
      ]
    }
  ]
}