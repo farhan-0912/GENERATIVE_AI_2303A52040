{
  "nbformat": 4,
  "nbformat_minor": 0,
  "metadata": {
    "colab": {
      "provenance": [],
      "include_colab_link": true
    },
    "kernelspec": {
      "name": "python3",
      "display_name": "Python 3"
    },
    "language_info": {
      "name": "python"
    }
  },
  "cells": [
    {
      "cell_type": "markdown",
      "metadata": {
        "id": "view-in-github",
        "colab_type": "text"
      },
      "source": [
        "<a href=\"https://colab.research.google.com/github/farhan-0912/GENERATIVE_AI_2303A52040/blob/main/2303A52040_GenAI_A2_.ipynb\" target=\"_parent\"><img src=\"https://colab.research.google.com/assets/colab-badge.svg\" alt=\"Open In Colab\"/></a>"
      ]
    },
    {
      "cell_type": "code",
      "source": [
        "from scipy.optimize import linprog\n",
        "import numpy as np\n",
        "import math as mt"
      ],
      "metadata": {
        "id": "RBezRt0XRhL5"
      },
      "execution_count": 1,
      "outputs": []
    },
    {
      "cell_type": "code",
      "source": [
        "obj=[-6,-5]\n",
        "A=[[1,1],[3,2]]\n",
        "B=[5,12]"
      ],
      "metadata": {
        "id": "jwq9w2F2Sbyg"
      },
      "execution_count": 2,
      "outputs": []
    },
    {
      "cell_type": "code",
      "source": [
        "bounds=[(0,float('inf')),(0,float('inf'))]\n",
        "opt=linprog(c=obj,A_ub=A,b_ub=B,bounds=bounds)\n",
        "choco=np.round(opt.x)\n",
        "print(f\"No.of A={choco[0]} B={choco[1]}\")\n",
        "A_units, B_units = opt.x\n",
        "print(f\"There company can produce \")\n",
        "print(f\"Optimal solution: No. of A = {choco[0]}, No. of B = {choco[1]}\")\n",
        "print(f\"Maximum profit: Rs {int(-opt.fun)}\")"
      ],
      "metadata": {
        "colab": {
          "base_uri": "https://localhost:8080/"
        },
        "id": "aj4loNfeS1X3",
        "outputId": "4d697a7c-dbb8-483a-fd95-9c29bef4f5ea"
      },
      "execution_count": 3,
      "outputs": [
        {
          "output_type": "stream",
          "name": "stdout",
          "text": [
            "No.of A=2.0 B=3.0\n",
            "There company can produce \n",
            "Optimal solution: No. of A = 2.0, No. of B = 3.0\n",
            "Maximum profit: Rs 27\n"
          ]
        }
      ]
    },
    {
      "cell_type": "code",
      "source": [
        "obj = [-50,-120]\n",
        "A=[[7000,2000],[10,30]]\n",
        "B=[700000,1200]"
      ],
      "metadata": {
        "id": "q_sbQpuybPcq"
      },
      "execution_count": 5,
      "outputs": []
    },
    {
      "cell_type": "code",
      "source": [
        "A_eq=[[1,1]]\n",
        "B_eq=[100]"
      ],
      "metadata": {
        "id": "umGCgYzrbgg9"
      },
      "execution_count": 6,
      "outputs": []
    },
    {
      "cell_type": "code",
      "source": [
        "bounds=[(0,float('inf')),(0,float('inf'))]\n",
        "\n",
        "opt=linprog(c = obj, A_ub = A, b_ub = B, A_eq = A_eq, b_eq = B_eq, bounds = bounds , method='simplex')\n",
        "chac=np.round(opt.x)\n",
        "print(f\"Number of A (Wheat) = {chac[0]}, B (Barley) = {chac[1]}\")\n",
        "max_profit = -opt.fun\n",
        "print(f\"The farmer should plant 'Wheat' on {chac[0]} hectares and 'Barley' on {chac[1]} hectares to get the maximum profit of Rs {max_profit:.2f}.\\n\\n\")"
      ],
      "metadata": {
        "colab": {
          "base_uri": "https://localhost:8080/"
        },
        "id": "GZvrXnx5gJZn",
        "outputId": "4d1d5340-5c15-4bd5-b4b9-a2458d930762"
      },
      "execution_count": 7,
      "outputs": [
        {
          "output_type": "stream",
          "name": "stdout",
          "text": [
            "Number of A (Wheat) = 90.0, B (Barley) = 10.0\n",
            "The farmer should plant 'Wheat' on 90.0 hectares and 'Barley' on 10.0 hectares to get the maximum profit of Rs 5700.00.\n",
            "\n",
            "\n"
          ]
        },
        {
          "output_type": "stream",
          "name": "stderr",
          "text": [
            "<ipython-input-7-7a42be1e515f>:3: DeprecationWarning: `method='simplex'` is deprecated and will be removed in SciPy 1.11.0. Please use one of the HiGHS solvers (e.g. `method='highs'`) in new code.\n",
            "  opt=linprog(c = obj, A_ub = A, b_ub = B, A_eq = A_eq, b_eq = B_eq, bounds = bounds , method='simplex')\n"
          ]
        }
      ]
    }
  ]
}